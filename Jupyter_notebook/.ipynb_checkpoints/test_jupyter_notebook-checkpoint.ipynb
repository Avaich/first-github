{
 "cells": [
  {
   "cell_type": "markdown",
   "id": "6571d247",
   "metadata": {},
   "source": [
    "# Phyton ka chilla with ammar\n",
    "## How to use jupyter note book\n",
    "### Basics of python\n",
    "#### 01_My first program"
   ]
  },
  {
   "cell_type": "code",
   "execution_count": 4,
   "id": "8d096b86",
   "metadata": {
    "scrolled": false
   },
   "outputs": [
    {
     "name": "stdout",
     "output_type": "stream",
     "text": [
      "5\n",
      "Hello Awais\n",
      "I am learning python with aammar\n"
     ]
    }
   ],
   "source": [
    "print(2+3)\n",
    "print(\"Hello Awais\")\n",
    "print(\"I am learning python with aammar\")"
   ]
  },
  {
   "cell_type": "markdown",
   "id": "6a3c73f0",
   "metadata": {},
   "source": [
    "# 02_operators"
   ]
  },
  {
   "cell_type": "code",
   "execution_count": 5,
   "id": "af45a856",
   "metadata": {
    "scrolled": true
   },
   "outputs": [
    {
     "name": "stdout",
     "output_type": "stream",
     "text": [
      "4\n",
      "9\n",
      "2\n",
      "2.0\n"
     ]
    }
   ],
   "source": [
    "print(2+2)\n",
    "print(3**2)\n",
    "print(4-2)\n",
    "print(8/4)"
   ]
  },
  {
   "cell_type": "markdown",
   "id": "3cab3cfa",
   "metadata": {},
   "source": [
    "*python follows PEMDAS rules\n",
    "Paranthesis Exponent Multiply Divide Addition Subtraction\n",
    "follows left to right sequence for M D & A S*"
   ]
  },
  {
   "cell_type": "markdown",
   "id": "93dbcc44",
   "metadata": {},
   "source": [
    "# 03_strings"
   ]
  },
  {
   "cell_type": "code",
   "execution_count": 6,
   "id": "cb4fd350",
   "metadata": {
    "scrolled": true
   },
   "outputs": [
    {
     "name": "stdout",
     "output_type": "stream",
     "text": [
      "Hello\n",
      "Hello\n",
      "Hello\n"
     ]
    }
   ],
   "source": [
    "print('Hello')\n",
    "print(\"Hello\")\n",
    "print('''Hello''')"
   ]
  },
  {
   "cell_type": "code",
   "execution_count": 7,
   "id": "b66898c2",
   "metadata": {
    "scrolled": true
   },
   "outputs": [
    {
     "name": "stdout",
     "output_type": "stream",
     "text": [
      "Hello Awais\n",
      "I am learning python with aammar\n"
     ]
    }
   ],
   "source": [
    "print(\"Hello Awais\")\n",
    "print(\"I am learning python with aammar\")"
   ]
  },
  {
   "cell_type": "markdown",
   "id": "7f13ea1a",
   "metadata": {},
   "source": [
    "*scripts written in ''. \"\", ''' ''', known as strings*"
   ]
  },
  {
   "cell_type": "markdown",
   "id": "9ab59040",
   "metadata": {},
   "source": [
    "# 04_Comments"
   ]
  },
  {
   "cell_type": "code",
   "execution_count": 8,
   "id": "29659e7b",
   "metadata": {
    "scrolled": true
   },
   "outputs": [
    {
     "name": "stdout",
     "output_type": "stream",
     "text": [
      "i am learning python with ammar\n",
      "5\n"
     ]
    }
   ],
   "source": [
    "print(\"i am learning python with ammar\")\n",
    "print(2+3)"
   ]
  },
  {
   "cell_type": "markdown",
   "id": "35aa1b68",
   "metadata": {},
   "source": [
    "*commenting helps in determining the function of script/string*"
   ]
  },
  {
   "cell_type": "markdown",
   "id": "2c5a7667",
   "metadata": {},
   "source": [
    "# 05_variables"
   ]
  },
  {
   "cell_type": "code",
   "execution_count": 10,
   "id": "aec8f82f",
   "metadata": {
    "scrolled": false
   },
   "outputs": [
    {
     "name": "stdout",
     "output_type": "stream",
     "text": [
      "5\n",
      "I am learning python\n"
     ]
    }
   ],
   "source": [
    "x=5 #intiger variable\n",
    "print(x)\n",
    "y=\"I am learning python\" #string variable\n",
    "print(y)"
   ]
  },
  {
   "cell_type": "code",
   "execution_count": 11,
   "id": "58858009",
   "metadata": {},
   "outputs": [
    {
     "name": "stdout",
     "output_type": "stream",
     "text": [
      "mangoes\n"
     ]
    }
   ],
   "source": [
    "fruit_basket= \"mangoes\"\n",
    "print(fruit_basket)"
   ]
  },
  {
   "cell_type": "markdown",
   "id": "78fae840",
   "metadata": {},
   "source": [
    "*types of variables*\n",
    "\n",
    "*rules to assign a variable*\n",
    "\n",
    "*1-the variable should contain letters, numbers or underscores\n",
    "*2- do not strat with numbers\n",
    "*3- spaces arent allowed\n",
    "*4- do not use keywords used in functions (mean, median, test etc)\n",
    "*5- must be short and descriptive\n",
    "*6- case sensitivity (always use lower case letters)*"
   ]
  },
  {
   "cell_type": "markdown",
   "id": "846bd1fe",
   "metadata": {},
   "source": [
    "# 06_input variables"
   ]
  },
  {
   "cell_type": "code",
   "execution_count": 12,
   "id": "106dce8a",
   "metadata": {
    "scrolled": true
   },
   "outputs": [
    {
     "name": "stdout",
     "output_type": "stream",
     "text": [
      "what is your favourite fruit? \n"
     ]
    }
   ],
   "source": [
    "fruit_basket=(\"what is your favourite fruit? \")\n",
    "print(fruit_basket) #input function simple"
   ]
  },
  {
   "cell_type": "code",
   "execution_count": 13,
   "id": "8c8ca755",
   "metadata": {
    "scrolled": true
   },
   "outputs": [
    {
     "name": "stdout",
     "output_type": "stream",
     "text": [
      "what is your name? awais\n",
      "hello! awais\n"
     ]
    }
   ],
   "source": [
    "#input function of 2nd stage\n",
    "name=input(\"what is your name? \")\n",
    "greetings=\"hello!\"\n",
    "print(greetings, name)"
   ]
  },
  {
   "cell_type": "code",
   "execution_count": 14,
   "id": "8fd41fb4",
   "metadata": {
    "scrolled": true
   },
   "outputs": [
    {
     "name": "stdout",
     "output_type": "stream",
     "text": [
      "what is your name? awais\n",
      "hello! awais\n"
     ]
    }
   ],
   "source": [
    "\n",
    "#another way of stage 2 input function\n",
    "\n",
    "name=input(\"what is your name? \")\n",
    "print(\"hello!\", name)"
   ]
  },
  {
   "cell_type": "code",
   "execution_count": 15,
   "id": "d7d211d8",
   "metadata": {},
   "outputs": [
    {
     "name": "stdout",
     "output_type": "stream",
     "text": [
      "what is your name? awais\n",
      "how old are you? 30\n",
      "Hello! awais , you are still young\n"
     ]
    }
   ],
   "source": [
    "#3rd stage of input function\n",
    "\n",
    "name=input(\"what is your name? \")\n",
    "age=input(\"how old are you? \")\n",
    "greetings=\"Hello!\"\n",
    "print(greetings, name, \", you are still young\")"
   ]
  },
  {
   "cell_type": "markdown",
   "id": "dd4fff01",
   "metadata": {},
   "source": [
    "## 07_conditional_logics"
   ]
  },
  {
   "cell_type": "markdown",
   "id": "c717b862",
   "metadata": {},
   "source": [
    "*Logical operators are either yes or no, true or false, 0 or 1*\n",
    "*equal to ==*\n",
    "*not equal to !=*\n",
    "*less then <*\n",
    "*greater then >*\n",
    "*less then and equal to <=*\n",
    "*greater then and equal to >=*"
   ]
  },
  {
   "cell_type": "code",
   "execution_count": 16,
   "id": "9eacf55b",
   "metadata": {},
   "outputs": [
    {
     "name": "stdout",
     "output_type": "stream",
     "text": [
      "True\n"
     ]
    }
   ],
   "source": [
    "print(4==4) #will code true, single equal (=) will not work\n"
   ]
  },
  {
   "cell_type": "code",
   "execution_count": 17,
   "id": "c73d8f8c",
   "metadata": {},
   "outputs": [
    {
     "name": "stdout",
     "output_type": "stream",
     "text": [
      "False\n",
      "True\n",
      "True\n",
      "False\n"
     ]
    }
   ],
   "source": [
    "print(4!=4)\n",
    "print(4>3)\n",
    "88print(3<6)\n",
    "print(3>6)"
   ]
  },
  {
   "cell_type": "markdown",
   "id": "899d1fb2",
   "metadata": {},
   "source": [
    "**application of logical operators**"
   ]
  },
  {
   "cell_type": "code",
   "execution_count": 18,
   "id": "d9f9f93c",
   "metadata": {},
   "outputs": [
    {
     "name": "stdout",
     "output_type": "stream",
     "text": [
      "False\n"
     ]
    }
   ],
   "source": [
    "awais_age=4\n",
    "age_at_school=5\n",
    "print(awais_age==age_at_school)"
   ]
  },
  {
   "cell_type": "markdown",
   "id": "0de5b3bd",
   "metadata": {},
   "source": [
    "**input function and logicals operators**"
   ]
  },
  {
   "cell_type": "code",
   "execution_count": 19,
   "id": "f224fb9f",
   "metadata": {},
   "outputs": [
    {
     "name": "stdout",
     "output_type": "stream",
     "text": [
      "how old is awais? 30\n",
      "<class 'int'>\n",
      "False\n"
     ]
    }
   ],
   "source": [
    "awais_age=4\n",
    "age_at_school=5\n",
    "awais_age=input(\"how old is awais? \") #input function\n",
    "awais_age=int(awais_age) #int means integer \n",
    "print(type(awais_age))\n",
    "print(awais_age==age_at_school) #logical operators"
   ]
  },
  {
   "cell_type": "markdown",
   "id": "ad8fb2ca",
   "metadata": {},
   "source": [
    "## 08_type_conversion"
   ]
  },
  {
   "cell_type": "markdown",
   "id": "232d7c5f",
   "metadata": {},
   "source": [
    "*x=10 #integer, y=10.2 #float/decimal, z=\"hello\" #string*"
   ]
  },
  {
   "cell_type": "markdown",
   "id": "0e951596",
   "metadata": {},
   "source": [
    "**implicit type of conversion**"
   ]
  },
  {
   "cell_type": "code",
   "execution_count": 21,
   "id": "987e1ee1",
   "metadata": {},
   "outputs": [
    {
     "name": "stdout",
     "output_type": "stream",
     "text": [
      "20.2 type of x is: <class 'float'>\n"
     ]
    }
   ],
   "source": [
    "x=10\n",
    "y=10.2\n",
    "x=x+y\n",
    "print(x, \"type of x is:\", type(x))"
   ]
  },
  {
   "cell_type": "markdown",
   "id": "2780320b",
   "metadata": {},
   "source": [
    "**explicit type conversion**"
   ]
  },
  {
   "cell_type": "code",
   "execution_count": 22,
   "id": "883cc163",
   "metadata": {},
   "outputs": [
    {
     "name": "stdout",
     "output_type": "stream",
     "text": [
      "what is your age? 30\n",
      "<class 'int'>\n"
     ]
    }
   ],
   "source": [
    "age=input(\"what is your age? \")\n",
    "age=int(age)\n",
    "print(type(age))"
   ]
  },
  {
   "cell_type": "markdown",
   "id": "eae07b53",
   "metadata": {},
   "source": [
    "## 09_if, else or elif"
   ]
  },
  {
   "cell_type": "code",
   "execution_count": 23,
   "id": "6a8c9f35",
   "metadata": {},
   "outputs": [
    {
     "name": "stdout",
     "output_type": "stream",
     "text": [
      "you should take care of awais he is still baby!\n"
     ]
    }
   ],
   "source": [
    "awais_age= 1\n",
    "required_age_at_school= 5 #can awais go to school?\n",
    "if awais_age==required_age_at_school :\n",
    "    print(\"congratulations! awais can join the school.\")\n",
    "elif awais_age > required_age_at_school:\n",
    "    print(\"awais should join higher secondary school\")\n",
    "elif awais_age<=2:\n",
    "    print(\"you should take care of awais he is still baby!\")    \n",
    "else:\n",
    "    print(\"awais cant go to school\")"
   ]
  },
  {
   "cell_type": "markdown",
   "id": "ba648d74",
   "metadata": {},
   "source": [
    "## 10_functions"
   ]
  },
  {
   "cell_type": "markdown",
   "id": "ab239e82",
   "metadata": {},
   "source": [
    "**defining a function for any mistake within a string**"
   ]
  },
  {
   "cell_type": "code",
   "execution_count": 24,
   "id": "569afa57",
   "metadata": {},
   "outputs": [
    {
     "name": "stdout",
     "output_type": "stream",
     "text": [
      "i am learning with ammar\n",
      "i am learning with ammar\n",
      "i am learning with ammar\n"
     ]
    }
   ],
   "source": [
    "\n",
    "def print_codanics():\n",
    "    print(\"i am learning with ammar\")\n",
    "    print(\"i am learning with ammar\")\n",
    "    print(\"i am learning with ammar\")\n",
    "print_codanics()"
   ]
  },
  {
   "cell_type": "markdown",
   "id": "3a64cbf0",
   "metadata": {},
   "source": [
    "**Second way**"
   ]
  },
  {
   "cell_type": "code",
   "execution_count": 25,
   "id": "8b4d44bb",
   "metadata": {},
   "outputs": [
    {
     "name": "stdout",
     "output_type": "stream",
     "text": [
      "i am learning with ammar\n",
      "i am learning with ammar\n",
      "i am learning with ammar\n"
     ]
    }
   ],
   "source": [
    "def print_codanics():\n",
    "    Text = \"i am learning with ammar\"\n",
    "    print(Text)\n",
    "    print(Text)\n",
    "    print(Text) \n",
    "print_codanics()"
   ]
  },
  {
   "cell_type": "markdown",
   "id": "18895bb6",
   "metadata": {},
   "source": [
    "**third way**"
   ]
  },
  {
   "cell_type": "code",
   "execution_count": 26,
   "id": "443509c9",
   "metadata": {},
   "outputs": [
    {
     "name": "stdout",
     "output_type": "stream",
     "text": [
      "i am learning with ammar\n",
      "i am learning with ammar\n",
      "i am learning with ammar\n"
     ]
    }
   ],
   "source": [
    "def print_condanics(text):\n",
    "    print(text)\n",
    "    print(text)\n",
    "    print(text)\n",
    "print_condanics(\"i am learning with ammar\")"
   ]
  },
  {
   "cell_type": "markdown",
   "id": "52c91d00",
   "metadata": {},
   "source": [
    "**fourth way, defining a function with if, elif and else statements**"
   ]
  },
  {
   "cell_type": "code",
   "execution_count": 28,
   "id": "42244ee8",
   "metadata": {},
   "outputs": [],
   "source": [
    "def school_calculator(age, text):\n",
    "    if age==5:\n",
    "        print(\"awais can join the school\")\n",
    "    elif age>5:\n",
    "        print(\"awais should go to higher school\")\n",
    "    else:\n",
    "        print(\"awais is still a baby\")"
   ]
  },
  {
   "cell_type": "markdown",
   "id": "6035e1a0",
   "metadata": {},
   "source": [
    "**defining a function of future**"
   ]
  },
  {
   "cell_type": "code",
   "execution_count": 29,
   "id": "650482b9",
   "metadata": {},
   "outputs": [
    {
     "name": "stdout",
     "output_type": "stream",
     "text": [
      "25\n"
     ]
    }
   ],
   "source": [
    "def future_age(age):\n",
    "    new_age=age+20\n",
    "    return new_age\n",
    "    print(new_age)\n",
    "\n",
    "future_predcited_age=future_age(5)\n",
    "print(future_predcited_age)"
   ]
  },
  {
   "cell_type": "markdown",
   "id": "ea4d110f",
   "metadata": {},
   "source": [
    "## 11_loops"
   ]
  },
  {
   "cell_type": "code",
   "execution_count": 30,
   "id": "fa0f3a74",
   "metadata": {},
   "outputs": [
    {
     "name": "stdout",
     "output_type": "stream",
     "text": [
      "4\n",
      "5\n",
      "6\n",
      "7\n",
      "8\n",
      "9\n",
      "10\n"
     ]
    }
   ],
   "source": [
    "for x in range(4,11):\n",
    "    print(x)"
   ]
  },
  {
   "cell_type": "markdown",
   "id": "155eea4d",
   "metadata": {},
   "source": [
    "**array**"
   ]
  },
  {
   "cell_type": "code",
   "execution_count": 31,
   "id": "ae9bf84b",
   "metadata": {},
   "outputs": [
    {
     "name": "stdout",
     "output_type": "stream",
     "text": [
      "mon\n",
      "tue\n",
      "weds\n",
      "thurs\n",
      "firday\n",
      "saturd\n",
      "sund\n"
     ]
    }
   ],
   "source": [
    "days=[\"mon\",\"tue\",\"weds\",\"thurs\",\"firday\",\"saturd\",\"sund\"]\n",
    "for d in days:\n",
    "    if (d==\"friday\"): break\n",
    "    if(d==\"friday\"): continue\n",
    "    print(d)"
   ]
  },
  {
   "cell_type": "markdown",
   "id": "1c99eaac",
   "metadata": {},
   "source": [
    "## 12_import_libraries"
   ]
  },
  {
   "cell_type": "markdown",
   "id": "1382147e",
   "metadata": {},
   "source": [
    "*how to import already defined functions, Exanple, print the value of pi*"
   ]
  },
  {
   "cell_type": "code",
   "execution_count": 32,
   "id": "319621d1",
   "metadata": {},
   "outputs": [
    {
     "name": "stdout",
     "output_type": "stream",
     "text": [
      "the value of pi is 3.141592653589793\n"
     ]
    }
   ],
   "source": [
    "import math\n",
    "print(\"the value of pi is\", math.pi)"
   ]
  },
  {
   "cell_type": "code",
   "execution_count": 34,
   "id": "9e8c05d3",
   "metadata": {},
   "outputs": [
    {
     "name": "stdout",
     "output_type": "stream",
     "text": [
      "300\n"
     ]
    }
   ],
   "source": [
    "import statistics\n",
    "x=[150,250,350,450]\n",
    "print(statistics.mean(x))"
   ]
  },
  {
   "cell_type": "markdown",
   "id": "37660270",
   "metadata": {},
   "source": [
    "*Important libraries, numpy, pandas, important libraries*"
   ]
  },
  {
   "cell_type": "markdown",
   "id": "209677a4",
   "metadata": {},
   "source": [
    "## 13_troubleshooting"
   ]
  },
  {
   "cell_type": "code",
   "execution_count": 36,
   "id": "441997c2",
   "metadata": {},
   "outputs": [
    {
     "ename": "SyntaxError",
     "evalue": "EOL while scanning string literal (Temp/ipykernel_9696/457020196.py, line 1)",
     "output_type": "error",
     "traceback": [
      "\u001b[1;36m  File \u001b[1;32m\"C:\\Users\\AWAISI~1\\AppData\\Local\\Temp/ipykernel_9696/457020196.py\"\u001b[1;36m, line \u001b[1;32m1\u001b[0m\n\u001b[1;33m    print(\"i am learning with ammar) #syntax error (python language error)\u001b[0m\n\u001b[1;37m                                                                          ^\u001b[0m\n\u001b[1;31mSyntaxError\u001b[0m\u001b[1;31m:\u001b[0m EOL while scanning string literal\n"
     ]
    }
   ],
   "source": [
    "print(\"i am learning with ammar) #syntax error (python language error)"
   ]
  },
  {
   "cell_type": "code",
   "execution_count": 37,
   "id": "2ec54fcd",
   "metadata": {},
   "outputs": [
    {
     "ename": "ZeroDivisionError",
     "evalue": "division by zero",
     "output_type": "error",
     "traceback": [
      "\u001b[1;31m---------------------------------------------------------------------------\u001b[0m",
      "\u001b[1;31mZeroDivisionError\u001b[0m                         Traceback (most recent call last)",
      "\u001b[1;32mC:\\Users\\AWAISI~1\\AppData\\Local\\Temp/ipykernel_9696/1964406738.py\u001b[0m in \u001b[0;36m<module>\u001b[1;34m\u001b[0m\n\u001b[1;32m----> 1\u001b[1;33m \u001b[0mprint\u001b[0m\u001b[1;33m(\u001b[0m\u001b[1;36m25\u001b[0m\u001b[1;33m/\u001b[0m\u001b[1;36m0\u001b[0m\u001b[1;33m)\u001b[0m \u001b[1;31m#runtime error (mathematical error)\u001b[0m\u001b[1;33m\u001b[0m\u001b[1;33m\u001b[0m\u001b[0m\n\u001b[0m",
      "\u001b[1;31mZeroDivisionError\u001b[0m: division by zero"
     ]
    }
   ],
   "source": [
    "print(25/0) #runtime error (mathematical error)"
   ]
  },
  {
   "cell_type": "code",
   "execution_count": 38,
   "id": "b1af34cf",
   "metadata": {},
   "outputs": [
    {
     "name": "stdout",
     "output_type": "stream",
     "text": [
      "hello awais\n"
     ]
    }
   ],
   "source": [
    "name=\"awais\"\n",
    "print(\"hello\", name) #symantic error (our mistake, typing or coding error)"
   ]
  }
 ],
 "metadata": {
  "kernelspec": {
   "display_name": "Python 3 (ipykernel)",
   "language": "python",
   "name": "python3"
  },
  "language_info": {
   "codemirror_mode": {
    "name": "ipython",
    "version": 3
   },
   "file_extension": ".py",
   "mimetype": "text/x-python",
   "name": "python",
   "nbconvert_exporter": "python",
   "pygments_lexer": "ipython3",
   "version": "3.9.7"
  }
 },
 "nbformat": 4,
 "nbformat_minor": 5
}
